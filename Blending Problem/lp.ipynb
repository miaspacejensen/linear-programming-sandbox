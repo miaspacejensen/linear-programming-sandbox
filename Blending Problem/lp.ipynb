{
 "cells": [
  {
   "cell_type": "code",
   "execution_count": 299,
   "id": "462979d9",
   "metadata": {},
   "outputs": [],
   "source": [
    "from pulp import LpMaximize, LpMinimize, LpProblem, LpVariable, LpInteger, LpStatus, lpSum\n",
    "import pandas as pd"
   ]
  },
  {
   "cell_type": "code",
   "execution_count": 300,
   "id": "de33cbd7",
   "metadata": {},
   "outputs": [
    {
     "data": {
      "text/html": [
       "<div>\n",
       "<style scoped>\n",
       "    .dataframe tbody tr th:only-of-type {\n",
       "        vertical-align: middle;\n",
       "    }\n",
       "\n",
       "    .dataframe tbody tr th {\n",
       "        vertical-align: top;\n",
       "    }\n",
       "\n",
       "    .dataframe thead th {\n",
       "        text-align: right;\n",
       "    }\n",
       "</style>\n",
       "<table border=\"1\" class=\"dataframe\">\n",
       "  <thead>\n",
       "    <tr style=\"text-align: right;\">\n",
       "      <th></th>\n",
       "      <th>Ingredient</th>\n",
       "      <th>Protein</th>\n",
       "      <th>Fat</th>\n",
       "      <th>Fibre</th>\n",
       "      <th>Salt</th>\n",
       "      <th>CostPerGram</th>\n",
       "    </tr>\n",
       "  </thead>\n",
       "  <tbody>\n",
       "    <tr>\n",
       "      <th>0</th>\n",
       "      <td>Chicken</td>\n",
       "      <td>0.10</td>\n",
       "      <td>0.08</td>\n",
       "      <td>0.001</td>\n",
       "      <td>0.002</td>\n",
       "      <td>0.013</td>\n",
       "    </tr>\n",
       "    <tr>\n",
       "      <th>1</th>\n",
       "      <td>Beef</td>\n",
       "      <td>0.20</td>\n",
       "      <td>0.10</td>\n",
       "      <td>0.005</td>\n",
       "      <td>0.005</td>\n",
       "      <td>0.008</td>\n",
       "    </tr>\n",
       "    <tr>\n",
       "      <th>2</th>\n",
       "      <td>Mutton</td>\n",
       "      <td>0.15</td>\n",
       "      <td>0.11</td>\n",
       "      <td>0.003</td>\n",
       "      <td>0.007</td>\n",
       "      <td>0.010</td>\n",
       "    </tr>\n",
       "    <tr>\n",
       "      <th>3</th>\n",
       "      <td>Rice</td>\n",
       "      <td>0.00</td>\n",
       "      <td>0.01</td>\n",
       "      <td>0.100</td>\n",
       "      <td>0.002</td>\n",
       "      <td>0.002</td>\n",
       "    </tr>\n",
       "    <tr>\n",
       "      <th>4</th>\n",
       "      <td>Wheat bran</td>\n",
       "      <td>0.04</td>\n",
       "      <td>0.01</td>\n",
       "      <td>0.150</td>\n",
       "      <td>0.008</td>\n",
       "      <td>0.005</td>\n",
       "    </tr>\n",
       "    <tr>\n",
       "      <th>5</th>\n",
       "      <td>Gel</td>\n",
       "      <td>0.00</td>\n",
       "      <td>0.00</td>\n",
       "      <td>0.000</td>\n",
       "      <td>0.000</td>\n",
       "      <td>0.001</td>\n",
       "    </tr>\n",
       "  </tbody>\n",
       "</table>\n",
       "</div>"
      ],
      "text/plain": [
       "   Ingredient  Protein   Fat  Fibre   Salt  CostPerGram\n",
       "0     Chicken     0.10  0.08  0.001  0.002        0.013\n",
       "1        Beef     0.20  0.10  0.005  0.005        0.008\n",
       "2      Mutton     0.15  0.11  0.003  0.007        0.010\n",
       "3        Rice     0.00  0.01  0.100  0.002        0.002\n",
       "4  Wheat bran     0.04  0.01  0.150  0.008        0.005\n",
       "5         Gel     0.00  0.00  0.000  0.000        0.001"
      ]
     },
     "execution_count": 300,
     "metadata": {},
     "output_type": "execute_result"
    }
   ],
   "source": [
    "df = pd.read_csv(\"nutrition_cost_table.csv\")\n",
    "df"
   ]
  },
  {
   "cell_type": "code",
   "execution_count": 301,
   "id": "15d344d2",
   "metadata": {},
   "outputs": [],
   "source": [
    "costs = df.set_index('Ingredient')['CostPerGram'].to_dict()\n",
    "protein = df.set_index('Ingredient')['Protein'].to_dict()\n",
    "fat = df.set_index('Ingredient')['Fat'].to_dict()\n",
    "fibre = df.set_index('Ingredient')['Fibre'].to_dict()\n",
    "salt = df.set_index('Ingredient')['Salt'].to_dict()"
   ]
  },
  {
   "cell_type": "code",
   "execution_count": 302,
   "id": "273485e4",
   "metadata": {},
   "outputs": [],
   "source": [
    "# create the LP problem\n",
    "problem = LpProblem(name=\"LP-Problem-Minimise-Objective\", sense=LpMinimize)"
   ]
  },
  {
   "cell_type": "code",
   "execution_count": 303,
   "id": "b7dd0290",
   "metadata": {},
   "outputs": [],
   "source": [
    "# decision variables\n",
    "ingredients = list(df.Ingredient)\n",
    "names = LpVariable.dicts(\"Ingr\", ingredients, lowBound=0, upBound=100)"
   ]
  },
  {
   "cell_type": "code",
   "execution_count": 304,
   "id": "0ff93d5e",
   "metadata": {},
   "outputs": [],
   "source": [
    "# set objective function\n",
    "problem += (lpSum([costs[i] * names[i] for i in ingredients]), \"Total Cost of Ingredients per can\")"
   ]
  },
  {
   "cell_type": "code",
   "execution_count": 305,
   "id": "d273a24b",
   "metadata": {},
   "outputs": [],
   "source": [
    "# add constraints\n",
    "problem += lpSum([names[i] for i in ingredients]) == 100, \"PercentagesSum\"\n",
    "problem += lpSum([protein[i] * names[i] for i in ingredients]) >= 8.0, \"ProteinRequirement\"\n",
    "problem += lpSum([fat[i] * names[i] for i in ingredients]) >= 6.0, \"FatRequirement\"\n",
    "problem += lpSum([fibre[i] * names[i] for i in ingredients]) <= 2.0, \"FibreRequirement\"\n",
    "problem += lpSum([salt[i] * names[i] for i in ingredients]) <= 0.4, \"SaltRequirement\""
   ]
  },
  {
   "cell_type": "code",
   "execution_count": 306,
   "id": "15d01dd3",
   "metadata": {},
   "outputs": [
    {
     "name": "stdout",
     "output_type": "stream",
     "text": [
      "Status: Optimal\n",
      "Ingr_Beef = 60.0\n",
      "Ingr_Chicken = 0.0\n",
      "Ingr_Gel = 40.0\n",
      "Ingr_Mutton = 0.0\n",
      "Ingr_Rice = 0.0\n",
      "Ingr_Wheat_bran = 0.0\n"
     ]
    }
   ],
   "source": [
    "# solve problem\n",
    "status = problem.solve()\n",
    "print(\"Status:\", LpStatus[problem.status])\n",
    "for var in problem.variables():\n",
    "    print(var.name, \"=\", var.varValue)"
   ]
  }
 ],
 "metadata": {
  "kernelspec": {
   "display_name": "Python_3_11_11",
   "language": "python",
   "name": "python3"
  },
  "language_info": {
   "codemirror_mode": {
    "name": "ipython",
    "version": 3
   },
   "file_extension": ".py",
   "mimetype": "text/x-python",
   "name": "python",
   "nbconvert_exporter": "python",
   "pygments_lexer": "ipython3",
   "version": "3.11.11"
  }
 },
 "nbformat": 4,
 "nbformat_minor": 5
}
