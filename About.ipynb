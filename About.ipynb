{
 "cells": [
  {
   "cell_type": "markdown",
   "id": "ecd16f69",
   "metadata": {},
   "source": [
    "#### Definition\n",
    "\n",
    "Linear programming (LP) is an optimisation technique used in data science and operations research to solve problems where the goal is to maximise or minimise a linear objective function subject to a set of linear constraints. These constraints represent limitations or restrictions on certain resources or conditions."
   ]
  },
  {
   "cell_type": "markdown",
   "id": "b55240d8",
   "metadata": {},
   "source": [
    "#### Key Components\n",
    "\n",
    "- **Objective function**: The linear function to be optimised (either maximised or minimised).\n",
    "- **Decision variables**: The unknowns that we need to solve for in the LP problem. These represent quantities to determine, like how much of a resource to use or allocate.\n",
    "- **Constraints**: Linear equations or inequalities that restrict the possible values of the decision variables.\n",
    "- **Feasible region**: The set of values that satisfy all constraints. It is often visualised as a convex polygon in two dimensions (or a polyhedron in higher dimensions).\n",
    "- **Non-negativity restriction**: The variables are often restricted to be non-negative because negative values may not have real-world meaning (e.g., negative production or resource allocation)."
   ]
  },
  {
   "cell_type": "markdown",
   "id": "4636b0c7",
   "metadata": {},
   "source": [
    "#### Possible applications\n",
    "\n",
    "- **Resource allocation**: Optimise how resources like time, money, or personnel are distributed, such as assigning tasks in workforce scheduling or optimizing supply chain operations.\n",
    "- **Predictive modeling**: LP can assist in models such as least absolute deviations regression, where you minimise the sum of absolute prediction errors.\n",
    "- **Portfolio optimisation**: In finance, LP helps determine how to allocate investments to maximise returns or minimise risk while adhering to various constraints.\n",
    "- **Blending problems**: Combine different raw materials (e.g., in manufacturing or food production) to minimise production costs while meeting quality standards.\n",
    "- **Game theory and decision making**: LP can help solve strategic decision-making problems in competitive environments.\n"
   ]
  },
  {
   "cell_type": "markdown",
   "id": "362dda6c",
   "metadata": {},
   "source": [
    "#### How to solve LP problems:\n",
    "\n",
    "- **Graphical method**: Applicable for small problems with two variables.\n",
    "- **Simplex method**: An iterative method for larger, more complex problems.\n",
    "- **Interior-point methods**: For large-scale applications.\n",
    "- **Software/tools**: Python libraries like Pulp, NumPy, and SciPy are widely used to solve LP problems."
   ]
  },
  {
   "cell_type": "markdown",
   "id": "f8f58b3f",
   "metadata": {},
   "source": [
    "#### Example\n",
    "\n",
    "**Problem**: A factory produces two products: A and B. Each product requires time on two machines, X and Y. Machine capacities and production requirements are below:\n",
    "\n",
    "|  | Time on Machine X | Time on Machine Y | Profit per unit |\n",
    "| --- | --- | --- | --- |\n",
    "| Product A | 1 hr | 2 hrs | $40 |\n",
    "| Product B | 3 hrs | 1 hr | $30 |\n",
    "| Max time | 12 hrs | 8 hrs |\n",
    "| Equation | 1A + 3B ≤ 12 | 2A + 1B ≤ 8 |\n",
    "\n",
    "**Objective**: Maximise profit: Z = 40A + 30B\n",
    "\n",
    "**Constraints**:\n",
    "- 1A + 3B ≤ 12 (Machine X time constraint)\n",
    "- 2A + 1B ≤ 8 (Machine Y time constraint)\n",
    "- A, B ≥ 0 (Non-negativity)\n",
    "\n",
    "**Solve problem**:"
   ]
  },
  {
   "cell_type": "code",
   "execution_count": 23,
   "id": "cf5618c5",
   "metadata": {},
   "outputs": [
    {
     "name": "stdout",
     "output_type": "stream",
     "text": [
      "Status: Optimal\n",
      "Objective (Maximised Profit): $180.00\n",
      "Optimal number of Product A: 3\n",
      "Optimal number of Product B: 2\n"
     ]
    }
   ],
   "source": [
    "from pulp import LpMaximize, LpProblem, LpVariable, LpInteger, LpStatus\n",
    "\n",
    "# create the LP problem\n",
    "problem = LpProblem(name=\"Factory_Profit_Optimisation\", sense=LpMaximize) # maximisation problem\n",
    "\n",
    "# define decision variables\n",
    "A = LpVariable(name=\"Product_A\", lowBound=0, cat=LpInteger)  # A is a non-negative integer\n",
    "B = LpVariable(name=\"Product_B\", lowBound=0, cat=LpInteger)  # B is a non-negative integer\n",
    "\n",
    "# set objective function\n",
    "problem += 40*A + 30*B, \"Total_Profit\"\n",
    "\n",
    "# add constraints\n",
    "problem += 1*A + 3*B <= 12, \"Machine_X_Time_Constraint\"\n",
    "problem += 2*A + 1*B <= 8, \"Machine_Y_Time_Constraint\"\n",
    "\n",
    "# solve problem\n",
    "status = problem.solve()\n",
    "\n",
    "print(f\"Status: {LpStatus[problem.status]}\")\n",
    "print(f\"Objective (Maximised Profit): ${problem.objective.value():.2f}\")\n",
    "print(f\"Optimal number of Product A: {A.value():.0f}\")\n",
    "print(f\"Optimal number of Product B: {B.value():.0f}\")"
   ]
  }
 ],
 "metadata": {
  "kernelspec": {
   "display_name": "Python_3_11_11",
   "language": "python",
   "name": "python3"
  },
  "language_info": {
   "codemirror_mode": {
    "name": "ipython",
    "version": 3
   },
   "file_extension": ".py",
   "mimetype": "text/x-python",
   "name": "python",
   "nbconvert_exporter": "python",
   "pygments_lexer": "ipython3",
   "version": "3.11.11"
  }
 },
 "nbformat": 4,
 "nbformat_minor": 5
}
